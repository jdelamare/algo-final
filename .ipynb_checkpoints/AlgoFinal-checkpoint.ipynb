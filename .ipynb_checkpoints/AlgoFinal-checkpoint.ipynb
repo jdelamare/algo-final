{
 "cells": [
  {
   "cell_type": "markdown",
   "metadata": {},
   "source": [
    "# Analysis of TSP Approximation Algorithms\n",
    "## Introduction\n",
    "The problem is often described as a salesman who would like to visit each city no more than once and return home. The journey to each city has a certain expense; the salesman would like to find the most optimal solution. This can be represented with edge weights between the vertices. So we want to find a route where the sum of the edge weights is the lowest possible value. Given a large set of cities (nodes) this has proven to be an intractable problem- it's NP-hard. \n",
    "\n",
    "Before getting into it, let's consider two other common paths that may traverse a graph. The first is an Eulerian circuit which touches every node in the graph and returns to the origin. The second is a Hamiltonian cycle which similar to the Eulerian cycle in that it must touch every node and return to the origin. However the Hamiltonian cycle mandates that each node is only visited once. This is quite similar to the traveling salesman problem, a reduction can be shown to prove that TSP is NP-hard without too much massaging. So once again, think of the Traveling Salesman Problem as finding the Hamiltonian cycle with the minimum possible weight.\n",
    "\n",
    "\n",
    "It's important to note that the algorithms in question, and indeed the ones I intend to implement, are only approximations. Approximations appear to be the only way to solve inputs that are millions of cities large. They find solutions appromization ratios which may be considered \"good enough\". Good enough of course depends on the standard one chooses to hold, but algorithms of note seem to yield a solution which is 2-3% close to optimal.[1] One of the approximations will fail terribly, this is the nearest neighbor. Christofides actually does quite well, yielding the best approximation ratio of all known algorithms in the general case. The detached-stem method, also known as the Lin–Kernighan heuristic, will also be investigated. < TODO More here > \n",
    "\n",
    "// Theory of TSP and the like\n",
    "Three assumptions for TSP\n",
    "1) The distance between any two nodes is greater than or equal to zero d(x,y) >= 0\n",
    "2) The graph is undirected d(x,y) = d(y,x) \n",
    "3) The triangle inequality exists: If a single edge reachs a point that two or more edges can reach together, the single edge is shorter than the sum of the other edges. d(x,y) + d(y,z) >= d(x,z)\n",
    "\n",
    "\n",
    "// need test vectors\n",
    "\n",
    "// nearest neighbor\n",
    "\n",
    "// begin with christofides\n",
    "\n",
    "// the third one\n",
    "    // ejection chains\n",
    "\n",
    "// comparison of the three\n",
    "\n",
    "// results\n",
    "\n",
    "// conclusion\n",
    "\n",
    "// references\n",
    "[1] https://www.sciencedirect.com/science/article/pii/S0377221710006065?via%3Dihub"
   ]
  }
 ],
 "metadata": {
  "kernelspec": {
   "display_name": "Python 3",
   "language": "python",
   "name": "python3"
  },
  "language_info": {
   "codemirror_mode": {
    "name": "ipython",
    "version": 3
   },
   "file_extension": ".py",
   "mimetype": "text/x-python",
   "name": "python",
   "nbconvert_exporter": "python",
   "pygments_lexer": "ipython3",
   "version": "3.7.6"
  }
 },
 "nbformat": 4,
 "nbformat_minor": 4
}
