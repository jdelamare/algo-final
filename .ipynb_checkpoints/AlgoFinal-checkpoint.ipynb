{
 "cells": [
  {
   "cell_type": "markdown",
   "metadata": {},
   "source": [
    "# Analysis of TSP Approximation Algorithms\n",
    "## Introduction\n",
    "// 10,000 overview of the TSP\n",
    "The problem is often described as a salesman who would like to visit each city no more than once and return home. The journey to each city has a certain expense; the salesman would like to find the most optimal solution. This can be represented with edge weights between the vertices. So we want to find a route where the sum of the edge weights is the lowest possible value. Given a large set of cities (nodes) this has proven to be an intractable problem- it's NP-hard. \n",
    "\n",
    "// talk about other types of graph problems?\n",
    "Before getting into it, let's consider two other common paths that may traverse a graph. The first is an Eulerian cycle which touches every node in the graph and returns to the origin. This problem is quite easy to implement because we're allowed to visit the same node more than once. The second is a subset of the Eulerian cycle, the Hamiltonian cycle. The Hamiltonian cycle mandates that each node is only visited once and the path returns to the origin. This is quite similar to the traveling salesman problem, a reduction can be shown to prove that TSP is NP-hard without too much massaging. \n",
    "\n",
    "// highlight that I'll be doing approximation algorithms\n",
    "It's important to note that the algorithms in question, and indeed the ones I intend to implement, are only approximations. Approximations appear to be the only way to solve inputs that are millions of cities large. They also find solutions that are considered \"close enough\" which is 2-3% close to optimal.[1]\n",
    "\n",
    "// need test vectors\n",
    "\n",
    "// begin with christofides\n",
    "\n",
    "// nearest neighbor\n",
    "\n",
    "// the third one\n",
    "    // ejection chains\n",
    "\n",
    "// comparison of the three\n",
    "\n",
    "// results\n",
    "\n",
    "// conclusion\n",
    "\n",
    "// references\n",
    "[1] https://www.sciencedirect.com/science/article/pii/S0377221710006065?via%3Dihub"
   ]
  }
 ],
 "metadata": {
  "kernelspec": {
   "display_name": "Python 3",
   "language": "python",
   "name": "python3"
  },
  "language_info": {
   "codemirror_mode": {
    "name": "ipython",
    "version": 3
   },
   "file_extension": ".py",
   "mimetype": "text/x-python",
   "name": "python",
   "nbconvert_exporter": "python",
   "pygments_lexer": "ipython3",
   "version": "3.7.6"
  }
 },
 "nbformat": 4,
 "nbformat_minor": 4
}
