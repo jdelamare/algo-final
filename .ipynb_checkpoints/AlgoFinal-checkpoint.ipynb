{
 "cells": [
  {
   "cell_type": "markdown",
   "metadata": {},
   "source": [
    "# Analysis of TSP Approximation Algorithms\n",
    "## Introduction\n",
    "The problem is often described as a salesman who would like to visit each city no more than once and return home. The journey to each city has a certain expense; the salesman would like to find the most optimal solution. This can be represented with edge weights between the vertices. So we want to find a route where the sum of the edge weights is the lowest possible value. Given a large set of cities (nodes) this has proven to be an intractable problem- it's NP-hard. \n",
    "\n",
    "Before getting into it, let's consider two other common paths that may traverse a graph. The first is an Eulerian circuit which touches every node in the graph and returns to the origin. The second is a Hamiltonian cycle which similar to the Eulerian cycle in that it must touch every node and return to the origin. However the Hamiltonian cycle mandates that each node is only visited once. This is quite similar to the traveling salesman problem, a reduction can be shown to prove that TSP is NP-hard without too much massaging. So once again, think of the Traveling Salesman Problem as finding the Hamiltonian cycle with the minimum possible weight.\n",
    "\n",
    "\n",
    "It's important to note that the algorithms in question, and indeed the ones I intend to implement, are only approximations. Approximations appear to be the only way to solve inputs that are millions of cities large. They find solutions appromization ratios which may be considered \"good enough\". Good enough of course depends on the standard one chooses to hold, but algorithms of note seem to yield a solution which is 2-3% close to optimal.[1] One of the approximations will fail terribly, this is the nearest neighbor. Christofides actually does quite well, yielding the best approximation ratio of all known algorithms in the general case. The detached-stem method, also known as the Lin–Kernighan heuristic, will also be investigated. < TODO More here > \n",
    "\n",
    "// Theory of TSP and the like\n",
    "Three assumptions for TSP\n",
    "1) The distance between any two nodes is greater than or equal to zero d(x,y) >= 0\n",
    "2) The graph is undirected d(x,y) = d(y,x) \n",
    "3) The triangle inequality exists: If a single edge reachs a point that two or more edges can reach together, the single edge is shorter than the sum of the other edges. d(x,y) + d(y,z) >= d(x,z)\n",
    "\n",
    "\n",
    "// need test vectors\n",
    "\n",
    "// nearest neighbor\n",
    "// TODO write the shittiest algorithm and watch it suck"
   ]
  },
  {
   "cell_type": "code",
   "execution_count": 44,
   "metadata": {},
   "outputs": [],
   "source": [
    "# This cell must be run before the other cells.\n",
    "import networkx as nx\n",
    "import random as rng\n",
    "from networkx.drawing.nx_pydot import write_dot\n",
    "\n",
    "class StopExecution(Exception):\n",
    "    def _render_traceback_(self):\n",
    "        pass"
   ]
  },
  {
   "cell_type": "code",
   "execution_count": 559,
   "metadata": {},
   "outputs": [
    {
     "name": "stdout",
     "output_type": "stream",
     "text": [
      "Number of nodes in small graph: 5\n"
     ]
    },
    {
     "data": {
      "image/png": "[encoded data removed]",
      "text/plain": [
       "<Figure size 432x288 with 1 Axes>"
      ]
     },
     "metadata": {},
     "output_type": "display_data"
    }
   ],
   "source": [
    "###############################\n",
    "#     SMALL VISUAL GRAPH      #\n",
    "###############################\n",
    "sm_num_of_nodes = rng.randrange(5,10)\n",
    "max_edge_weight = 20\n",
    "prob_of_edge_creation = 0.5\n",
    "\n",
    "print(\"Number of nodes in small graph: {}\".format(sm_num_of_nodes))\n",
    "sm_graph = nx.fast_gnp_random_graph(sm_num_of_nodes, prob_of_edge_creation, None, False)\n",
    "\n",
    "# only works on connected graphs.\n",
    "while not nx.is_connected(sm_graph):\n",
    "    sm_graph = nx.fast_gnp_random_graph(sm_num_of_nodes, prob_of_edge_creation, None, False)\n",
    "\n",
    "# for each node in the small graph, initialize it to unvisited\n",
    "node_labels = [{'visited': 'X', 'origin': False}] # if this .--  is not a dictionary then it's applied to all nodes\n",
    "nx.set_node_attributes(sm_graph, node_labels, 'node-label')\n",
    "\n",
    "# for each node in the small graph, assign a random weight\n",
    "for (u, v) in sm_graph.edges():\n",
    "    sm_graph.edges[u,v]['weight'] = rng.randint(1, max_edge_weight)\n",
    "    \n",
    "# add edges to the small graph that is printable\n",
    "pos = nx.nx_agraph.graphviz_layout(sm_graph)\n",
    "edge_labels = nx.get_edge_attributes(sm_graph,'weight')\n",
    "edges_label = nx.draw_networkx_edge_labels(sm_graph, pos, edge_labels=edge_labels)\n",
    "\n",
    "# need to remove the origin attribute being passed to `draw` to keep it clean\n",
    "node_labels = nx.get_node_attributes(sm_graph, 'node-label')\n",
    "print_node_labels = dict()\n",
    "for n in node_labels.items():\n",
    "    print_node_labels[n[0]] = {n[0] : n[1][0]['visited']}\n",
    "\n",
    "# Draw the graph below\n",
    "nx.draw(sm_graph, pos=pos, labels=print_node_labels, node_color='#42d1f5', font_size=14, font_weight='bold')\n",
    "\n",
    "\n",
    "####### Large graph stuff #######\n",
    "# for each node in the large graph, assign a random weight\n",
    "# lg_num_of_nodes = rng.randrange(40, 60) # the other is `lg` which is a large graph output to a file.\n",
    "# lg_graph = nx.fast_gnp_random_graph(lg_num_of_nodes, prob_of_edge_creation, None, False)\n",
    "# print(\"Number of nodes in large graph: {}\".format(lg_num_of_nodes))\n",
    "\n",
    "# for (u, v) in lg_graph.edges():\n",
    "#     lg_graph.edges[u,v]['weight'] = rng.randint(0, max_edge_weight)\n",
    "\n",
    "# # write the dot file TODO: maybe write edges\n",
    "# write_dot(lg_graph, 'file.dot')\n",
    "# print(\"Dot file written\")\n",
    "# ! dot -Tpng file.dot -o file.png  # add -v for verbose output\n",
    "# print(\"Dot to png conversion complete\")\n",
    "# ! chmod 777 file.png # wide open permissions until this is constrained\n",
    "\n",
    "# print(\"\\nThis is a graph before finding an optimal path.\")"
   ]
  },
  {
   "cell_type": "code",
   "execution_count": 560,
   "metadata": {
    "scrolled": true
   },
   "outputs": [
    {
     "name": "stdout",
     "output_type": "stream",
     "text": [
      "[0, 1, 2]\n",
      "Trying a different origin: 0\n",
      "[1, 2]\n",
      "Trying a different origin: 1\n",
      "Best route nearest neighbor could find: 38\n"
     ]
    },
    {
     "data": {
      "image/png": "[encoded data removed]",
      "text/plain": [
       "<Figure size 432x288 with 1 Axes>"
      ]
     },
     "metadata": {},
     "output_type": "display_data"
    }
   ],
   "source": [
    "###############################\n",
    "#     SMALL VISUAL GRAPH      #\n",
    "###############################\n",
    "\n",
    "output_graph = nx.create_empty_copy(sm_graph,with_data=False)\n",
    "\n",
    "# At the beginning, all nodes are unvisited and marked with 'X'\n",
    "# origin is the current_node to start\n",
    "current_node = rng.randrange(0, sm_num_of_nodes)\n",
    "\n",
    "# A list of attempted origins in case the origin doesn't work out.\n",
    "attempted_origins = list(range(sm_num_of_nodes))\n",
    "attempted_origins.remove(current_node)\n",
    "\n",
    "next_node = None\n",
    "next_node_edge = None  # TODO: accumulate edge weight\n",
    "total_path_weight = 0\n",
    "is_ham_circuit = False\n",
    "\n",
    "# set origin to true by accessing that particular node and updating it's attribute by sending in a new dict\n",
    "nx.set_node_attributes(sm_graph, {current_node: {'node-label': [{'visited': 'o', 'origin': True}]}})\n",
    "\n",
    "\n",
    "while True:\n",
    "    \n",
    "    \n",
    "    # flag to show if further travel is possible\n",
    "    neighbor_exists = False\n",
    "    \n",
    "    # reset the highest possible weight\n",
    "    lowest_weight_edge = max_edge_weight + 1\n",
    "\n",
    "    # all nodes that share an edge incident to current_node\n",
    "    neighbors = [n for n in sm_graph.neighbors(current_node)]\n",
    "    \n",
    "    for node in neighbors:\n",
    "\n",
    "        # has the neighbor node been visited\n",
    "        not_visited = sm_graph.nodes[node]['node-label'][0]['visited'] != 'o'\n",
    "\n",
    "        # weight of the edge to the neighbor node\n",
    "        edge_weight_to_neighbor = sm_graph.get_edge_data(current_node, node)['weight']\n",
    "        \n",
    "        # is neighbor node the origin\n",
    "        is_origin = sm_graph.nodes[node]['node-label'][0]['origin']\n",
    "        \n",
    "        # if the node hasn't been visited and the edge between this and that is current minimum and it ain't the origin\n",
    "        if not_visited and edge_weight_to_neighbor < lowest_weight_edge and not is_origin:\n",
    "            # this is now the edge lowest weight edge leaving `u`\n",
    "            lowest_weight_edge = edge_weight_to_neighbor\n",
    "            next_node = node\n",
    "            neighbor_exists = True # need to know if we should try and return to origin\n",
    "\n",
    "    # then we have to attempt to get back to the origin, need to iterate once more. we couldn't have taken this edge before\n",
    "    if not neighbor_exists:\n",
    "        for node in neighbors:\n",
    "            is_origin = sm_graph.nodes[node]['node-label'][0]['origin']\n",
    "            if is_origin:\n",
    "                # simply add that edge weight and return\n",
    "                next_edge_weight = sm_graph.get_edge_data(current_node, node)['weight']\n",
    "                output_graph.add_edge(current_node, next_node, weight=next_edge_weight)\n",
    "                total_path_weight += next_edge_weight\n",
    "                is_ham_circuit = True\n",
    "                break\n",
    "        if is_ham_circuit:\n",
    "            break\n",
    "        else:\n",
    "            try:\n",
    "                attempted_origins.remove(current_node)\n",
    "                current_node = attempted_origins[0]\n",
    "                print(attempted_origins)\n",
    "                print(\"Trying a different origin: \" + str(current_node))\n",
    "                output_graph = nx.create_empty_copy(sm_graph,with_data=False)\n",
    "                continue\n",
    "            except (ValueError):\n",
    "                print(\"Unable to find a Hamiltonian circuit for our salesperson.\")\n",
    "                raise StopExecution\n",
    "                # clear the graph and try again with all other points except this one.\n",
    "    \n",
    "    next_edge_weight = sm_graph.get_edge_data(current_node, next_node)['weight']\n",
    "    output_graph.add_edge(current_node, next_node, weight=next_edge_weight)\n",
    "    total_path_weight += next_edge_weight\n",
    "    \n",
    "    current_node = next_node \n",
    "    \n",
    "    # update the visited node    \n",
    "    nx.set_node_attributes(sm_graph, {current_node: {'node-label': [{'visited': 'o', 'origin': False}]}})\n",
    "\n",
    "print(\"Best route nearest neighbor could find: \" + str(total_path_weight))\n",
    "# drawing stuff\n",
    "node_labels = nx.get_node_attributes(sm_graph, 'node-label')\n",
    "print_node_labels = dict()\n",
    "for n in node_labels.items():\n",
    "    print_node_labels[n[0]] = {n[0] : n[1][0]['visited']}\n",
    "pos = nx.nx_agraph.graphviz_layout(sm_graph)\n",
    "edge_labels = nx.get_edge_attributes(output_graph,'weight')\n",
    "edges_label = nx.draw_networkx_edge_labels(output_graph, pos, edge_labels=edge_labels)\n",
    "nx.draw(output_graph, pos=pos, labels=print_node_labels, node_color='#42d1f5', font_size=14, font_weight='bold')"
   ]
  },
  {
   "cell_type": "markdown",
   "metadata": {},
   "source": [
    "An interesting thing to note about nearest neighbor is we'd technically always choose the lowest edge to ALL points in the graph. However, no node could exist two edges away and have a lesser weight then if we'd go through the intermediate note. With the assumption that there are no negative weights, that is.\n",
    "\n",
    "THE ALGORITHM CAN FAIL! When that happens we simply choose another node in the set. that is why there is n^2 running time, we may need to try all possible paths.\n",
    "\n",
    "DO THE OTHER ALGORITHMS DEPEND ON TRIANGLE INEQUALITY\n",
    "\n",
    "Wikipedia psuedocode \n",
    " * Initialize all vertices as unvisited.\n",
    " * Select an arbitrary vertex, set it as the current vertex u. Mark u as visited.\n",
    " * Find out the shortest edge connecting the current vertex u and an unvisited vertex v.\n",
    " * Set v as the current vertex u. Mark v as visited.\n",
    " * If all the vertices in the domain are visited, then terminate. Else, go to step 3."
   ]
  },
  {
   "cell_type": "code",
   "execution_count": 547,
   "metadata": {},
   "outputs": [
    {
     "name": "stdout",
     "output_type": "stream",
     "text": [
      "Number of nodes in large graph: 6\n"
     ]
    },
    {
     "ename": "TypeError",
     "evalue": "string indices must be integers",
     "output_type": "error",
     "traceback": [
      "\u001b[0;31m---------------------------------------------------------------------------\u001b[0m",
      "\u001b[0;31mTypeError\u001b[0m                                 Traceback (most recent call last)",
      "\u001b[0;32m<ipython-input-547-ab2a8377046c>\u001b[0m in \u001b[0;36m<module>\u001b[0;34m\u001b[0m\n\u001b[1;32m     28\u001b[0m \u001b[0mprint_node_labels\u001b[0m \u001b[0;34m=\u001b[0m \u001b[0mdict\u001b[0m\u001b[0;34m(\u001b[0m\u001b[0;34m)\u001b[0m\u001b[0;34m\u001b[0m\u001b[0;34m\u001b[0m\u001b[0m\n\u001b[1;32m     29\u001b[0m \u001b[0;32mfor\u001b[0m \u001b[0mn\u001b[0m \u001b[0;32min\u001b[0m \u001b[0mnode_labels\u001b[0m\u001b[0;34m.\u001b[0m\u001b[0mitems\u001b[0m\u001b[0;34m(\u001b[0m\u001b[0;34m)\u001b[0m\u001b[0;34m:\u001b[0m\u001b[0;34m\u001b[0m\u001b[0;34m\u001b[0m\u001b[0m\n\u001b[0;32m---> 30\u001b[0;31m     \u001b[0mprint_node_labels\u001b[0m\u001b[0;34m[\u001b[0m\u001b[0mn\u001b[0m\u001b[0;34m[\u001b[0m\u001b[0;36m0\u001b[0m\u001b[0;34m]\u001b[0m\u001b[0;34m]\u001b[0m \u001b[0;34m=\u001b[0m \u001b[0;34m{\u001b[0m\u001b[0mn\u001b[0m\u001b[0;34m[\u001b[0m\u001b[0;36m0\u001b[0m\u001b[0;34m]\u001b[0m \u001b[0;34m:\u001b[0m \u001b[0mn\u001b[0m\u001b[0;34m[\u001b[0m\u001b[0;36m1\u001b[0m\u001b[0;34m]\u001b[0m\u001b[0;34m[\u001b[0m\u001b[0;36m0\u001b[0m\u001b[0;34m]\u001b[0m\u001b[0;34m[\u001b[0m\u001b[0;34m'visited'\u001b[0m\u001b[0;34m]\u001b[0m\u001b[0;34m}\u001b[0m\u001b[0;34m\u001b[0m\u001b[0;34m\u001b[0m\u001b[0m\n\u001b[0m\u001b[1;32m     31\u001b[0m \u001b[0;34m\u001b[0m\u001b[0m\n\u001b[1;32m     32\u001b[0m \u001b[0mwrite_dot\u001b[0m\u001b[0;34m(\u001b[0m\u001b[0mlg_graph\u001b[0m\u001b[0;34m,\u001b[0m \u001b[0;34m'file43.dot'\u001b[0m\u001b[0;34m)\u001b[0m\u001b[0;34m\u001b[0m\u001b[0;34m\u001b[0m\u001b[0m\n",
      "\u001b[0;31mTypeError\u001b[0m: string indices must be integers"
     ]
    },
    {
     "data": {
      "image/png": "[encoded data removed]",
      "text/plain": [
       "<Figure size 432x288 with 1 Axes>"
      ]
     },
     "metadata": {},
     "output_type": "display_data"
    }
   ],
   "source": [
    "###############################\n",
    "#     LARGE VISUAL GRAPH      #\n",
    "###############################\n",
    "lg_num_of_nodes = rng.randrange(5, 8)\n",
    "max_edge_weight = 20\n",
    "prob_of_edge_creation = 1.0\n",
    "\n",
    "print(\"Number of nodes in large graph: {}\".format(lg_num_of_nodes))\n",
    "\n",
    "lg_graph = nx.fast_gnp_random_graph(lg_num_of_nodes, prob_of_edge_creation, None, False)\n",
    "output_graph = nx.create_empty_copy(lg_graph,with_data=False)\n",
    "\n",
    "# for each node in the large graph, initialize it to unvisited\n",
    "node_labels = ['X'] \n",
    "nx.set_node_attributes(lg_graph, node_labels, 'node-label')\n",
    "\n",
    "# for each node in the small graph, assign a random weight\n",
    "for (u, v) in lg_graph.edges():\n",
    "    lg_graph.edges[u,v]['weight'] = rng.randint(1, max_edge_weight)\n",
    "    \n",
    "# add edges to the small graph that is printable\n",
    "pos = nx.nx_agraph.graphviz_layout(lg_graph)\n",
    "edge_labels = nx.get_edge_attributes(lg_graph,'weight')\n",
    "edges_label = nx.draw_networkx_edge_labels(lg_graph, pos, edge_labels=edge_labels)\n",
    "\n",
    "# need to remove the origin attribute being passed to `draw` to keep it clean ? Do I need this stuff with graphviz?\n",
    "node_labels = nx.get_node_attributes(lg_graph, 'node-label')\n",
    "print_node_labels = dict()\n",
    "for n in node_labels.items():\n",
    "    print_node_labels[n[0]] = {n[0] : n[1][0]['visited']}\n",
    "\n",
    "write_dot(lg_graph, 'file43.dot')\n",
    "print(\"Dot file written\")\n",
    "! dot -Tpng file43.dot -o file43.png  # add -v for verbose output\n",
    "print(\"Dot to png conversion complete\")\n",
    "! chmod 777 file43.png # wide open permissions until this is constrained\n",
    "print(\"\\nThis is a graph before finding an optimal path.\")"
   ]
  },
  {
   "cell_type": "markdown",
   "metadata": {},
   "source": [
    "![dotimage](./file43.png)\n",
    "// begin with christofides\n",
    "\n",
    "// the third one\n",
    "    // ejection chains\n",
    "\n",
    "// comparison of the three\n",
    "\n",
    "// results\n",
    "\n",
    "// conclusion\n",
    "\n",
    "document references\n",
    "https://www.sciencedirect.com/science/article/pii/S0377221710006065?via%3Dihub\n",
    "\n",
    "programming resources\n",
    "https://stackoverflow.com/questions/24005221/ipython-notebook-early-exit-from-cell/48000614"
   ]
  },
  {
   "cell_type": "code",
   "execution_count": 174,
   "metadata": {},
   "outputs": [
    {
     "ename": "SyntaxError",
     "evalue": "unexpected EOF while parsing (<ipython-input-174-72c738394b5c>, line 4)",
     "output_type": "error",
     "traceback": [
      "\u001b[0;36m  File \u001b[0;32m\"<ipython-input-174-72c738394b5c>\"\u001b[0;36m, line \u001b[0;32m4\u001b[0m\n\u001b[0;31m    \u001b[0m\n\u001b[0m    ^\u001b[0m\n\u001b[0;31mSyntaxError\u001b[0m\u001b[0;31m:\u001b[0m unexpected EOF while parsing\n"
     ]
    }
   ],
   "source": [
    "d = {1: {'weight': 8}, 2: {'weight': 14}, 13: {'weight': 1}}\n",
    "lowest = 15\n",
    "for e,k in d.items():\n",
    "    "
   ]
  },
  {
   "cell_type": "code",
   "execution_count": 175,
   "metadata": {},
   "outputs": [
    {
     "name": "stdout",
     "output_type": "stream",
     "text": [
      "{'node-label': 'visited'}\n",
      "1\n",
      "2\n",
      "13\n"
     ]
    },
    {
     "data": {
      "text/plain": [
       "'visited'"
      ]
     },
     "execution_count": 175,
     "metadata": {},
     "output_type": "execute_result"
    }
   ],
   "source": [
    "# helper stuff\n",
    "\n",
    "# this is how you access a particular node\n",
    "\n",
    "# this is how you change a node's attribute\n",
    "change_label = {7:'visited'}\n",
    "nx.set_node_attributes(sm_graph, change_label, 'node-label')\n",
    "print(sm_graph.nodes[7])\n",
    "\n",
    "# random\n",
    "1 in G     # check if node in graph\n",
    "\n",
    "[n for n in G if n != None]  # iterate through nodes\n",
    "\n",
    "len(G)  # number of nodes in graph\n",
    "\n",
    "# traverse via edges\n",
    "for u, v, weight in G.edges.data('weight'):\n",
    "    if weight is not None:\n",
    "        # Do something useful with the edges\n",
    "        pass\n",
    "    \n",
    "G[<some-node>] # same as G.adj, this returns a dict of all the neighbor nodes\n",
    "\n",
    "# print all of the neighbors of a node\n",
    "for n in sm_graph.neighbors(7):\n",
    "    print(n)\n",
    "    \n",
    "# or do this for list comprehension\n",
    "[n for n in sm_graph.neighbors(7)]\n",
    "\n",
    "# accessing an individual node attribute i.e. visited or unvisited\n",
    "sm_graph.nodes[7]['node-label']\n",
    "\n",
    "# part of me wants to update the node attributes like this\n",
    "nx.set_node_attributes(G, {1:{'weight':-1, 'volume':4}})\n",
    "G.nodes[1]['weight']\n",
    "# or this\n",
    "g.nodes['node1'].update(optional_attrs)  \n",
    "# but what I really need to do is not have that attribute in list of edge weight/ neighbor node attributes\n",
    "\n",
    "\n",
    "# getting an edge\n",
    "G.edges([0, ])  # only edges incident to these nodes"
   ]
  },
  {
   "cell_type": "code",
   "execution_count": null,
   "metadata": {},
   "outputs": [],
   "source": []
  }
 ],
 "metadata": {
  "kernelspec": {
   "display_name": "Python 3",
   "language": "python",
   "name": "python3"
  },
  "language_info": {
   "codemirror_mode": {
    "name": "ipython",
    "version": 3
   },
   "file_extension": ".py",
   "mimetype": "text/x-python",
   "name": "python",
   "nbconvert_exporter": "python",
   "pygments_lexer": "ipython3",
   "version": "3.7.6"
  }
 },
 "nbformat": 4,
 "nbformat_minor": 4
}
