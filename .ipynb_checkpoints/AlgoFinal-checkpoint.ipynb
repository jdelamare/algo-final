{
 "cells": [
  {
   "cell_type": "markdown",
   "metadata": {},
   "source": [
    "# Analysis of TSP Approximation Algorithms\n",
    "## Introduction\n",
    "The problem is often described as a salesman who would like to visit each city no more than once and return home. The journey to each city has a certain expense; the salesman would like to find the most optimal solution. This can be represented with edge weights between the vertices. So we want to find a route where the sum of the edge weights is the lowest possible value. Given a large set of cities (nodes) this has proven to be an intractable problem- it's NP-hard. \n",
    "\n",
    "Before getting into it, let's consider two other common paths that may traverse a graph. The first is an Eulerian circuit which touches every node in the graph and returns to the origin. The second is a Hamiltonian cycle which similar to the Eulerian cycle in that it must touch every node and return to the origin. However the Hamiltonian cycle mandates that each node is only visited once. This is quite similar to the traveling salesman problem, a reduction can be shown to prove that TSP is NP-hard without too much massaging. So once again, think of the Traveling Salesman Problem as finding the Hamiltonian cycle with the minimum possible weight.\n",
    "\n",
    "\n",
    "It's important to note that the algorithms in question, and indeed the ones I intend to implement, are only approximations. Approximations appear to be the only way to solve inputs that are millions of cities large. They find solutions appromization ratios which may be considered \"good enough\". Good enough of course depends on the standard one chooses to hold, but algorithms of note seem to yield a solution which is 2-3% close to optimal.[1] One of the approximations will fail terribly, this is the nearest neighbor. Christofides actually does quite well, yielding the best approximation ratio of all known algorithms in the general case. The detached-stem method, also known as the Lin–Kernighan heuristic, will also be investigated. < TODO More here > \n",
    "\n",
    "// Theory of TSP and the like\n",
    "Three assumptions for TSP\n",
    "1) The distance between any two nodes is greater than or equal to zero d(x,y) >= 0\n",
    "2) The graph is undirected d(x,y) = d(y,x) \n",
    "3) The triangle inequality exists: If a single edge reachs a point that two or more edges can reach together, the single edge is shorter than the sum of the other edges. d(x,y) + d(y,z) >= d(x,z)\n",
    "\n",
    "\n",
    "// need test vectors\n",
    "\n",
    "// nearest neighbor\n",
    "// TODO write the shittiest algorithm and watch it suck"
   ]
  },
  {
   "cell_type": "code",
   "execution_count": 8,
   "metadata": {},
   "outputs": [
    {
     "name": "stdout",
     "output_type": "stream",
     "text": [
      "Number of nodes: 32\n",
      "Graph created\n",
      "Dot file written\n",
      "dot - graphviz version 2.40.1 (20161225.0304)\n",
      "Using render: gd:gd\n",
      "Using device: png:gd:gd\n",
      "libdir = \"/usr/local/lib/graphviz\"\n",
      "Activated plugin library: libgvplugin_dot_layout.so.6\n",
      "Using layout: dot:dot_layout\n",
      "The plugin configuration file:\n",
      "\t/usr/local/lib/graphviz/config6\n",
      "\t\twas successfully loaded.\n",
      "    render\t:  dot dot_json fig gd json json0 map mp pic pov ps svg tk vml vrml xdot xdot_json\n",
      "    layout\t:  circo dot fdp neato nop nop1 nop2 osage patchwork sfdp twopi\n",
      "    textlayout\t:  textlayout\n",
      "    device\t:  canon cmap cmapx cmapx_np dot dot_json eps fig gd gd2 gif gv imap imap_np ismap jpe jpeg jpg json json0 mp pic plain plain-ext png pov ps ps2 svg svgz tk vml vmlz vrml wbmp xdot xdot1.2 xdot1.4 xdot_json\n",
      "    loadimage\t:  (lib) eps gd gd2 gif jpe jpeg jpg png ps svg xbm\n",
      "pack info:\n",
      "  mode   undefined\n",
      "  size   0\n",
      "  flags  0\n",
      "  margin 8\n",
      "pack info:\n",
      "  mode   node\n",
      "  size   0\n",
      "  flags  0\n",
      "fontname: \"Times-Roman\" resolved to: /usr/share/fonts/truetype/liberation/LiberationSerif-Regular.ttf\n",
      "network simplex:  32 nodes 208 edges maxiter=2147483647 balance=1\n",
      "network simplex: 32 nodes 208 edges 8 iter 0.00 sec\n",
      "Maxrank = 17, minrank = 0\n",
      "mincross: pass 0 iter 0 trying 0 cur_cross 4456 best_cross 4456\n",
      "mincross: pass 0 iter 1 trying 0 cur_cross 2862 best_cross 2862\n",
      "mincross: pass 0 iter 2 trying 0 cur_cross 2639 best_cross 2639\n",
      "mincross: pass 0 iter 3 trying 0 cur_cross 1946 best_cross 1946\n",
      "mincross: pass 1 iter 0 trying 0 cur_cross 3865 best_cross 1930\n",
      "mincross: pass 1 iter 1 trying 1 cur_cross 2606 best_cross 1930\n",
      "mincross: pass 1 iter 2 trying 2 cur_cross 2735 best_cross 1930\n",
      "mincross: pass 1 iter 3 trying 3 cur_cross 1924 best_cross 1924\n",
      "mincross: pass 2 iter 0 trying 0 cur_cross 1924 best_cross 1924\n",
      "mincross: pass 2 iter 1 trying 1 cur_cross 2660 best_cross 1924\n",
      "mincross: pass 2 iter 2 trying 2 cur_cross 2662 best_cross 1924\n",
      "mincross: pass 2 iter 3 trying 3 cur_cross 1943 best_cross 1924\n",
      "mincross: pass 2 iter 4 trying 4 cur_cross 2045 best_cross 1924\n",
      "mincross: pass 2 iter 5 trying 5 cur_cross 2518 best_cross 1924\n",
      "mincross: pass 2 iter 6 trying 6 cur_cross 2749 best_cross 1924\n",
      "mincross: pass 2 iter 7 trying 7 cur_cross 2001 best_cross 1924\n",
      "mincross: pass 2 iter 8 trying 8 cur_cross 2067 best_cross 1924\n",
      "mincross %3: 1922 crossings, 0.05 secs.\n",
      "network simplex:  2128 nodes 3262 edges maxiter=2147483647 balance=2\n",
      "network simplex: 100 200 300 400 500 600 700 \n",
      "network simplex: 2128 nodes 3262 edges 764 iter 0.05 sec\n",
      "routesplines: 235 edges, 2371 boxes 0.02 sec\n",
      "Using render: gd:gd\n",
      "Using device: png:gd:gd\n",
      "dot: allocating a 8206K PaletteColor GD image (4969 x 1691 pixels)\n",
      "gvRenderJobs %3: 0.16 secs.\n",
      "Dot to png conversion complete\n"
     ]
    }
   ],
   "source": [
    "import networkx as nx\n",
    "import random as rng\n",
    "from networkx.drawing.nx_pydot import write_dot\n",
    "# seed = rng.seed(121)\n",
    "num_of_nodes = rng.randrange(25,50)\n",
    "print(\"Number of nodes: {}\".format(num_of_nodes))\n",
    "prob_of_edge_creation = .42\n",
    "G = nx.fast_gnp_random_graph(num_of_nodes, prob_of_edge_creation,None,False)\n",
    "print(\"Graph created\")\n",
    "# nx.draw(G)s\n",
    "# for (u, v) in G.edges():\n",
    "#     G.edges[u,v]['weight'] = rng.randint(0,10)\n",
    "write_dot(G, 'file12.dot')\n",
    "print(\"Dot file written\")\n",
    "! dot -v -Tpng file12.dot -o file12.png\n",
    "print(\"Dot to png conversion complete\")\n",
    "! chmod 777 file12.png"
   ]
  },
  {
   "cell_type": "markdown",
   "metadata": {},
   "source": [
    "![dotimage](./file12.png)"
   ]
  },
  {
   "cell_type": "markdown",
   "metadata": {},
   "source": [
    "![dotimage](./file11.png)\n",
    "// begin with christofides\n",
    "\n",
    "// the third one\n",
    "    // ejection chains\n",
    "\n",
    "// comparison of the three\n",
    "\n",
    "// results\n",
    "\n",
    "// conclusion\n",
    "\n",
    "// references\n",
    "[1] https://www.sciencedirect.com/science/article/pii/S0377221710006065?via%3Dihub"
   ]
  },
  {
   "cell_type": "code",
   "execution_count": null,
   "metadata": {},
   "outputs": [],
   "source": []
  }
 ],
 "metadata": {
  "kernelspec": {
   "display_name": "Python 3",
   "language": "python",
   "name": "python3"
  },
  "language_info": {
   "codemirror_mode": {
    "name": "ipython",
    "version": 3
   },
   "file_extension": ".py",
   "mimetype": "text/x-python",
   "name": "python",
   "nbconvert_exporter": "python",
   "pygments_lexer": "ipython3",
   "version": "3.7.6"
  }
 },
 "nbformat": 4,
 "nbformat_minor": 4
}
